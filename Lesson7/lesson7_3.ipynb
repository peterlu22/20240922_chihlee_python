{
 "cells": [
  {
   "cell_type": "code",
   "execution_count": 2,
   "metadata": {},
   "outputs": [
    {
     "ename": "UndefinedTable",
     "evalue": "relation \"股市\" does not exist\nLINE 3:         FROM 股市 JOIN 市場 ON 股市.name = 市場.name\n                     ^\n",
     "output_type": "error",
     "traceback": [
      "\u001b[1;31m---------------------------------------------------------------------------\u001b[0m",
      "\u001b[1;31mUndefinedTable\u001b[0m                            Traceback (most recent call last)",
      "Cell \u001b[1;32mIn[2], line 14\u001b[0m\n\u001b[0;32m      8\u001b[0m     \u001b[38;5;28;01mwith\u001b[39;00m conn\u001b[38;5;241m.\u001b[39mcursor() \u001b[38;5;28;01mas\u001b[39;00m cursor:\n\u001b[0;32m      9\u001b[0m         sql\u001b[38;5;241m=\u001b[39m\u001b[38;5;124m'''\u001b[39m\n\u001b[0;32m     10\u001b[0m \u001b[38;5;124m        SELECT country,市場.name,date,adj_close,volume\u001b[39m\n\u001b[0;32m     11\u001b[0m \u001b[38;5;124m        FROM 股市 JOIN 市場 ON 股市.name = 市場.name\u001b[39m\n\u001b[0;32m     12\u001b[0m \u001b[38;5;124m        WHERE country = \u001b[39m\u001b[38;5;124m'\u001b[39m\u001b[38;5;124m台灣\u001b[39m\u001b[38;5;124m'\u001b[39m\u001b[38;5;124m;\u001b[39m\n\u001b[0;32m     13\u001b[0m \u001b[38;5;124m        \u001b[39m\u001b[38;5;124m'''\u001b[39m\n\u001b[1;32m---> 14\u001b[0m         \u001b[43mcursor\u001b[49m\u001b[38;5;241;43m.\u001b[39;49m\u001b[43mexecute\u001b[49m\u001b[43m(\u001b[49m\u001b[43msql\u001b[49m\u001b[43m)\u001b[49m\n\u001b[0;32m     15\u001b[0m         all_data \u001b[38;5;241m=\u001b[39m cursor\u001b[38;5;241m.\u001b[39mfetchall()\n\u001b[0;32m     16\u001b[0m conn\u001b[38;5;241m.\u001b[39mclose()\n",
      "\u001b[1;31mUndefinedTable\u001b[0m: relation \"股市\" does not exist\nLINE 3:         FROM 股市 JOIN 市場 ON 股市.name = 市場.name\n                     ^\n"
     ]
    }
   ],
   "source": [
    "import psycopg2\n",
    "from dotenv import load_dotenv\n",
    "import os\n",
    "load_dotenv()\n",
    "\n",
    "conn = psycopg2.connect(host=os.environ['POSTGRE_HOST'],database=os.environ['POSTGRE_DATABASE'],user=os.environ['POSTGRE_USER'],password=os.environ['POSTGRE_PASSWORD'])\n",
    "with conn:\n",
    "    with conn.cursor() as cursor:\n",
    "        sql='''\n",
    "        SELECT country,市場.name,date,adj_close,volume\n",
    "        FROM 股市 JOIN 市場 ON 股市.name = 市場.name\n",
    "        WHERE country = '台灣';\n",
    "        '''\n",
    "        cursor.execute(sql)\n",
    "        all_data = cursor.fetchall()\n",
    "conn.close()\n",
    "len(all_data)"
   ]
  }
 ],
 "metadata": {
  "kernelspec": {
   "display_name": "venv1",
   "language": "python",
   "name": "python3"
  },
  "language_info": {
   "codemirror_mode": {
    "name": "ipython",
    "version": 3
   },
   "file_extension": ".py",
   "mimetype": "text/x-python",
   "name": "python",
   "nbconvert_exporter": "python",
   "pygments_lexer": "ipython3",
   "version": "3.10.15"
  }
 },
 "nbformat": 4,
 "nbformat_minor": 2
}
