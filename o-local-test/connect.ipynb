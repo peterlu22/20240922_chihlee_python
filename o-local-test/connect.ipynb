{
 "cells": [
  {
   "cell_type": "markdown",
   "metadata": {},
   "source": [
    "Python 連線 PostgreSQL 資料庫測試"
   ]
  },
  {
   "cell_type": "code",
   "execution_count": 7,
   "metadata": {},
   "outputs": [
    {
     "name": "stdout",
     "output_type": "stream",
     "text": [
      "Opened database successfully\n"
     ]
    }
   ],
   "source": [
    "#導入postgresql套件\n",
    "import psycopg2\n",
    "#環境變數儲存器(可先將環境變數儲存在.env的檔案中，透過load_dotenv將環境變數導入)\n",
    "from dotenv import load_dotenv\n",
    "#呼叫系統檔案或程式\n",
    "import os\n",
    "load_dotenv()\n",
    "\n",
    "#psycopg2.connect建立DB連線，os.environ取得相關環境變數\n",
    "conn = psycopg2.connect(host=os.environ['POSTGRE_HOST'],database=os.environ['POSTGRE_DATABASE'],user=os.environ['POSTGRE_USER'],password=os.environ['POSTGRE_PASSWORD'])\n",
    "#開啟管理資源分配器(Context Manager)，DB連線時開啟，結束時關閉\n",
    "with conn:\n",
    "    print(\"Opened database successfully\")"
   ]
  },
  {
   "cell_type": "markdown",
   "metadata": {},
   "source": [
    "建立資料表"
   ]
  },
  {
   "cell_type": "code",
   "execution_count": 8,
   "metadata": {},
   "outputs": [],
   "source": [
    "#導入postgresql套件\n",
    "import psycopg2\n",
    "#環境變數儲存器(可先將環境變數儲存在.env的檔案中，透過load_dotenv將環境變數導入)\n",
    "from dotenv import load_dotenv\n",
    "#呼叫系統檔案或程式\n",
    "import os\n",
    "load_dotenv()\n",
    "\n",
    "#psycopg2.connect建立DB連線，os.environ取得相關環境變數\n",
    "conn = psycopg2.connect(host=os.environ['POSTGRE_HOST'],database=os.environ['POSTGRE_DATABASE'],user=os.environ['POSTGRE_USER'],password=os.environ['POSTGRE_PASSWORD'])\n",
    "#開啟管理資源分配器(Context Manager)，DB連線時開啟，結束時關閉\n",
    "with conn:\n",
    "    with conn.cursor() as cursor:\n",
    "        sql = '''CREATE TABLE IF NOT EXISTS 市場(\n",
    "        name VARCHAR(20),\n",
    "        country VARCHAR(20),\n",
    "        PRIMARY KEY(name),\n",
    "        UNIQUE(name,country) /*不可以有重覆的資料*/\n",
    "        );'''\n",
    "\n",
    "        cursor.execute(sql)\n",
    "    with conn.cursor() as cursor:\n",
    "        sql = '''CREATE TABLE IF NOT EXISTS 股市(\n",
    "            stock_id SERIAL,\n",
    "            date DATE,\n",
    "            open NUMERIC(17,10),\n",
    "            high NUMERIC(17,10),\n",
    "            low NUMERIC(17,10),\n",
    "            close NUMERIC(17,10),\n",
    "            adj_close NUMERIC(17,10),\n",
    "            volume BIGINT DEFAULT 0,\n",
    "            name VARCHAR(20),\n",
    "            PRIMARY KEY(stock_id),\t\n",
    "            UNIQUE(date,name),\n",
    "            FOREIGN KEY(name) REFERENCES 市場(name)\n",
    "            ON DELETE NO ACTION\n",
    "            ON UPDATE CASCADE\n",
    "        );'''\n",
    "        cursor.execute(sql)"
   ]
  },
  {
   "cell_type": "markdown",
   "metadata": {},
   "source": [
    "新增資料"
   ]
  },
  {
   "cell_type": "code",
   "execution_count": 9,
   "metadata": {},
   "outputs": [],
   "source": [
    "#導入postgresql套件\n",
    "import psycopg2\n",
    "#環境變數儲存器(可先將環境變數儲存在.env的檔案中，透過load_dotenv將環境變數導入)\n",
    "from dotenv import load_dotenv\n",
    "#呼叫系統檔案或程式\n",
    "import os\n",
    "load_dotenv()\n",
    "\n",
    "#psycopg2.connect建立DB連線，os.environ取得相關環境變數\n",
    "conn = psycopg2.connect(host=os.environ['POSTGRE_HOST'],database=os.environ['POSTGRE_DATABASE'],user=os.environ['POSTGRE_USER'],password=os.environ['POSTGRE_PASSWORD'])\n",
    "#開啟管理資源分配器(Context Manager)，DB連線時開啟，結束時關閉\n",
    "with conn:\n",
    "    with conn.cursor() as cursor:\n",
    "        sql='''\n",
    "        INSERT INTO 市場 values (%s,%s)\n",
    "        ON CONFLICT DO NOTHING;\n",
    "        '''\n",
    "        cursor.execute(sql,['^TWII','台灣'])"
   ]
  }
 ],
 "metadata": {
  "kernelspec": {
   "display_name": "venv1",
   "language": "python",
   "name": "python3"
  },
  "language_info": {
   "codemirror_mode": {
    "name": "ipython",
    "version": 3
   },
   "file_extension": ".py",
   "mimetype": "text/x-python",
   "name": "python",
   "nbconvert_exporter": "python",
   "pygments_lexer": "ipython3",
   "version": "3.12.7"
  }
 },
 "nbformat": 4,
 "nbformat_minor": 2
}
