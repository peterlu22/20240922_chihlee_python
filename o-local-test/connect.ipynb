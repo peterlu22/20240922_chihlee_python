{
 "cells": [
  {
   "cell_type": "code",
   "execution_count": null,
   "metadata": {},
   "outputs": [
    {
     "name": "stdout",
     "output_type": "stream",
     "text": [
      "Opened database successfully\n"
     ]
    }
   ],
   "source": [
    "#導入postgresql套件\n",
    "import psycopg2 \n",
    "#建立連線\n",
    "conn = psycopg2.connect(database=\"mydb\", user=\"postgres\", password=\"M444y335p336\", host=\"127.0.0.1\", port=\"5432\")\n",
    "#連線成功列印Opened database successfully\n",
    "print(\"Opened database successfully\")"
   ]
  },
  {
   "cell_type": "code",
   "execution_count": 7,
   "metadata": {},
   "outputs": [
    {
     "name": "stdout",
     "output_type": "stream",
     "text": [
      "Opened database successfully\n"
     ]
    }
   ],
   "source": [
    "#導入postgresql套件\n",
    "import psycopg2\n",
    "#環境變數儲存器(可先將環境變數儲存在.env的檔案中，透過load_dotenv將環境變數導入)\n",
    "from dotenv import load_dotenv\n",
    "#呼叫系統檔案或程式\n",
    "import os\n",
    "load_dotenv()\n",
    "\n",
    "#psycopg2.connect建立DB連線，os.environ取得相關環境變數\n",
    "conn = psycopg2.connect(host=os.environ['POSTGRE_HOST'],database=os.environ['POSTGRE_DATABASE'],user=os.environ['POSTGRE_USER'],password=os.environ['POSTGRE_PASSWORD'])\n",
    "#開啟管理資源分配器(Context Manager)，DB連線時開啟，結束時關閉\n",
    "with conn:\n",
    "    print(\"Opened database successfully\")"
   ]
  }
 ],
 "metadata": {
  "kernelspec": {
   "display_name": "venv1",
   "language": "python",
   "name": "python3"
  },
  "language_info": {
   "codemirror_mode": {
    "name": "ipython",
    "version": 3
   },
   "file_extension": ".py",
   "mimetype": "text/x-python",
   "name": "python",
   "nbconvert_exporter": "python",
   "pygments_lexer": "ipython3",
   "version": "3.12.7"
  }
 },
 "nbformat": 4,
 "nbformat_minor": 2
}
